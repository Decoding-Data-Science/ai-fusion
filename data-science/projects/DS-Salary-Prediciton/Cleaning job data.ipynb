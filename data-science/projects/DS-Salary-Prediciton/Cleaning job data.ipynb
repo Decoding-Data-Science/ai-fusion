{
 "cells": [
  {
   "cell_type": "code",
   "execution_count": 1,
   "id": "a336fede",
   "metadata": {},
   "outputs": [],
   "source": [
    "import pandas as pd"
   ]
  },
  {
   "cell_type": "code",
   "execution_count": 2,
   "id": "07c38031",
   "metadata": {},
   "outputs": [
    {
     "data": {
      "text/html": [
       "<div>\n",
       "<style scoped>\n",
       "    .dataframe tbody tr th:only-of-type {\n",
       "        vertical-align: middle;\n",
       "    }\n",
       "\n",
       "    .dataframe tbody tr th {\n",
       "        vertical-align: top;\n",
       "    }\n",
       "\n",
       "    .dataframe thead th {\n",
       "        text-align: right;\n",
       "    }\n",
       "</style>\n",
       "<table border=\"1\" class=\"dataframe\">\n",
       "  <thead>\n",
       "    <tr style=\"text-align: right;\">\n",
       "      <th></th>\n",
       "      <th>Unnamed: 0</th>\n",
       "      <th>Job Title</th>\n",
       "      <th>Salary Estimate</th>\n",
       "      <th>Job Description</th>\n",
       "      <th>Rating</th>\n",
       "      <th>Company Name</th>\n",
       "      <th>Location</th>\n",
       "      <th>Headquarters</th>\n",
       "      <th>Size</th>\n",
       "      <th>Founded</th>\n",
       "      <th>Type of ownership</th>\n",
       "      <th>Industry</th>\n",
       "      <th>Sector</th>\n",
       "      <th>Revenue</th>\n",
       "      <th>Competitors</th>\n",
       "    </tr>\n",
       "  </thead>\n",
       "  <tbody>\n",
       "    <tr>\n",
       "      <th>0</th>\n",
       "      <td>0</td>\n",
       "      <td>Data Scientist</td>\n",
       "      <td>$53K-$91K (Glassdoor est.)</td>\n",
       "      <td>Data Scientist\\nLocation: Albuquerque, NM\\nEdu...</td>\n",
       "      <td>3.8</td>\n",
       "      <td>Tecolote Research\\n3.8</td>\n",
       "      <td>Albuquerque, NM</td>\n",
       "      <td>Goleta, CA</td>\n",
       "      <td>501 to 1000 employees</td>\n",
       "      <td>1973</td>\n",
       "      <td>Company - Private</td>\n",
       "      <td>Aerospace &amp; Defense</td>\n",
       "      <td>Aerospace &amp; Defense</td>\n",
       "      <td>$50 to $100 million (USD)</td>\n",
       "      <td>-1</td>\n",
       "    </tr>\n",
       "    <tr>\n",
       "      <th>1</th>\n",
       "      <td>1</td>\n",
       "      <td>Healthcare Data Scientist</td>\n",
       "      <td>$63K-$112K (Glassdoor est.)</td>\n",
       "      <td>What You Will Do:\\n\\nI. General Summary\\n\\nThe...</td>\n",
       "      <td>3.4</td>\n",
       "      <td>University of Maryland Medical System\\n3.4</td>\n",
       "      <td>Linthicum, MD</td>\n",
       "      <td>Baltimore, MD</td>\n",
       "      <td>10000+ employees</td>\n",
       "      <td>1984</td>\n",
       "      <td>Other Organization</td>\n",
       "      <td>Health Care Services &amp; Hospitals</td>\n",
       "      <td>Health Care</td>\n",
       "      <td>$2 to $5 billion (USD)</td>\n",
       "      <td>-1</td>\n",
       "    </tr>\n",
       "    <tr>\n",
       "      <th>2</th>\n",
       "      <td>2</td>\n",
       "      <td>Data Scientist</td>\n",
       "      <td>$80K-$90K (Glassdoor est.)</td>\n",
       "      <td>KnowBe4, Inc. is a high growth information sec...</td>\n",
       "      <td>4.8</td>\n",
       "      <td>KnowBe4\\n4.8</td>\n",
       "      <td>Clearwater, FL</td>\n",
       "      <td>Clearwater, FL</td>\n",
       "      <td>501 to 1000 employees</td>\n",
       "      <td>2010</td>\n",
       "      <td>Company - Private</td>\n",
       "      <td>Security Services</td>\n",
       "      <td>Business Services</td>\n",
       "      <td>$100 to $500 million (USD)</td>\n",
       "      <td>-1</td>\n",
       "    </tr>\n",
       "    <tr>\n",
       "      <th>3</th>\n",
       "      <td>3</td>\n",
       "      <td>Data Scientist</td>\n",
       "      <td>$56K-$97K (Glassdoor est.)</td>\n",
       "      <td>*Organization and Job ID**\\nJob ID: 310709\\n\\n...</td>\n",
       "      <td>3.8</td>\n",
       "      <td>PNNL\\n3.8</td>\n",
       "      <td>Richland, WA</td>\n",
       "      <td>Richland, WA</td>\n",
       "      <td>1001 to 5000 employees</td>\n",
       "      <td>1965</td>\n",
       "      <td>Government</td>\n",
       "      <td>Energy</td>\n",
       "      <td>Oil, Gas, Energy &amp; Utilities</td>\n",
       "      <td>$500 million to $1 billion (USD)</td>\n",
       "      <td>Oak Ridge National Laboratory, National Renewa...</td>\n",
       "    </tr>\n",
       "    <tr>\n",
       "      <th>4</th>\n",
       "      <td>4</td>\n",
       "      <td>Data Scientist</td>\n",
       "      <td>$86K-$143K (Glassdoor est.)</td>\n",
       "      <td>Data Scientist\\nAffinity Solutions / Marketing...</td>\n",
       "      <td>2.9</td>\n",
       "      <td>Affinity Solutions\\n2.9</td>\n",
       "      <td>New York, NY</td>\n",
       "      <td>New York, NY</td>\n",
       "      <td>51 to 200 employees</td>\n",
       "      <td>1998</td>\n",
       "      <td>Company - Private</td>\n",
       "      <td>Advertising &amp; Marketing</td>\n",
       "      <td>Business Services</td>\n",
       "      <td>Unknown / Non-Applicable</td>\n",
       "      <td>Commerce Signals, Cardlytics, Yodlee</td>\n",
       "    </tr>\n",
       "  </tbody>\n",
       "</table>\n",
       "</div>"
      ],
      "text/plain": [
       "   Unnamed: 0                  Job Title              Salary Estimate  \\\n",
       "0           0             Data Scientist   $53K-$91K (Glassdoor est.)   \n",
       "1           1  Healthcare Data Scientist  $63K-$112K (Glassdoor est.)   \n",
       "2           2             Data Scientist   $80K-$90K (Glassdoor est.)   \n",
       "3           3             Data Scientist   $56K-$97K (Glassdoor est.)   \n",
       "4           4             Data Scientist  $86K-$143K (Glassdoor est.)   \n",
       "\n",
       "                                     Job Description  Rating  \\\n",
       "0  Data Scientist\\nLocation: Albuquerque, NM\\nEdu...     3.8   \n",
       "1  What You Will Do:\\n\\nI. General Summary\\n\\nThe...     3.4   \n",
       "2  KnowBe4, Inc. is a high growth information sec...     4.8   \n",
       "3  *Organization and Job ID**\\nJob ID: 310709\\n\\n...     3.8   \n",
       "4  Data Scientist\\nAffinity Solutions / Marketing...     2.9   \n",
       "\n",
       "                                 Company Name         Location  \\\n",
       "0                      Tecolote Research\\n3.8  Albuquerque, NM   \n",
       "1  University of Maryland Medical System\\n3.4    Linthicum, MD   \n",
       "2                                KnowBe4\\n4.8   Clearwater, FL   \n",
       "3                                   PNNL\\n3.8     Richland, WA   \n",
       "4                     Affinity Solutions\\n2.9     New York, NY   \n",
       "\n",
       "     Headquarters                    Size  Founded   Type of ownership  \\\n",
       "0      Goleta, CA   501 to 1000 employees     1973   Company - Private   \n",
       "1   Baltimore, MD        10000+ employees     1984  Other Organization   \n",
       "2  Clearwater, FL   501 to 1000 employees     2010   Company - Private   \n",
       "3    Richland, WA  1001 to 5000 employees     1965          Government   \n",
       "4    New York, NY     51 to 200 employees     1998   Company - Private   \n",
       "\n",
       "                           Industry                        Sector  \\\n",
       "0               Aerospace & Defense           Aerospace & Defense   \n",
       "1  Health Care Services & Hospitals                   Health Care   \n",
       "2                 Security Services             Business Services   \n",
       "3                            Energy  Oil, Gas, Energy & Utilities   \n",
       "4           Advertising & Marketing             Business Services   \n",
       "\n",
       "                            Revenue  \\\n",
       "0         $50 to $100 million (USD)   \n",
       "1            $2 to $5 billion (USD)   \n",
       "2        $100 to $500 million (USD)   \n",
       "3  $500 million to $1 billion (USD)   \n",
       "4          Unknown / Non-Applicable   \n",
       "\n",
       "                                         Competitors  \n",
       "0                                                 -1  \n",
       "1                                                 -1  \n",
       "2                                                 -1  \n",
       "3  Oak Ridge National Laboratory, National Renewa...  \n",
       "4               Commerce Signals, Cardlytics, Yodlee  "
      ]
     },
     "execution_count": 2,
     "metadata": {},
     "output_type": "execute_result"
    }
   ],
   "source": [
    "df = pd.read_csv('glassdoor_jobs.csv')\n",
    "df.head()"
   ]
  },
  {
   "cell_type": "code",
   "execution_count": 3,
   "id": "d909e8d3",
   "metadata": {},
   "outputs": [
    {
     "data": {
      "text/plain": [
       "(956, 15)"
      ]
     },
     "execution_count": 3,
     "metadata": {},
     "output_type": "execute_result"
    }
   ],
   "source": [
    "df.shape"
   ]
  },
  {
   "cell_type": "code",
   "execution_count": 5,
   "id": "a66dedc5",
   "metadata": {},
   "outputs": [
    {
     "name": "stdout",
     "output_type": "stream",
     "text": [
      "<class 'pandas.core.frame.DataFrame'>\n",
      "RangeIndex: 956 entries, 0 to 955\n",
      "Data columns (total 15 columns):\n",
      " #   Column             Non-Null Count  Dtype  \n",
      "---  ------             --------------  -----  \n",
      " 0   Unnamed: 0         956 non-null    int64  \n",
      " 1   Job Title          956 non-null    object \n",
      " 2   Salary Estimate    956 non-null    object \n",
      " 3   Job Description    956 non-null    object \n",
      " 4   Rating             956 non-null    float64\n",
      " 5   Company Name       956 non-null    object \n",
      " 6   Location           956 non-null    object \n",
      " 7   Headquarters       956 non-null    object \n",
      " 8   Size               956 non-null    object \n",
      " 9   Founded            956 non-null    int64  \n",
      " 10  Type of ownership  956 non-null    object \n",
      " 11  Industry           956 non-null    object \n",
      " 12  Sector             956 non-null    object \n",
      " 13  Revenue            956 non-null    object \n",
      " 14  Competitors        956 non-null    object \n",
      "dtypes: float64(1), int64(2), object(12)\n",
      "memory usage: 112.2+ KB\n"
     ]
    }
   ],
   "source": [
    "df.info()"
   ]
  },
  {
   "cell_type": "code",
   "execution_count": 27,
   "id": "07fb76bb",
   "metadata": {},
   "outputs": [],
   "source": [
    "# Salary parsing\n",
    "\n",
    "df = df[df['Salary Estimate']!='-1']\n",
    "\n",
    "salary = df['Salary Estimate'].apply(lambda x : x.split('(')[0])\n",
    "\n",
    "minus_kd = salary.apply(lambda x : x.replace('$','').replace('K',''))\n",
    "\n",
    "min_hr = minus_kd.apply (lambda x : x.lower().replace('per hour','').replace('employer provided salary:',''))\n",
    "\n",
    "df['min_salary'] = min_hr.apply(lambda x: x.split('-')[0]).astype(int)\n",
    "\n",
    "df['max_salary'] = min_hr.apply(lambda x: x.split('-')[1]).astype(int)\n",
    "\n",
    "df['average_salary'] = (df['max_salary']+df['min_salary']) / 2 \n"
   ]
  },
  {
   "cell_type": "code",
   "execution_count": 7,
   "id": "c7524d80",
   "metadata": {},
   "outputs": [
    {
     "data": {
      "text/plain": [
       "(742, 15)"
      ]
     },
     "execution_count": 7,
     "metadata": {},
     "output_type": "execute_result"
    }
   ],
   "source": [
    "df.shape"
   ]
  },
  {
   "cell_type": "code",
   "execution_count": 34,
   "id": "9e544d5e",
   "metadata": {},
   "outputs": [],
   "source": [
    "# Company name text only\n",
    "df['Company_txt'] = df.apply(lambda x: x['Company Name'] if x['Rating']<0 else x['Company Name'][:-3],axis=1)\n"
   ]
  },
  {
   "cell_type": "code",
   "execution_count": 40,
   "id": "14b8c2ef",
   "metadata": {},
   "outputs": [],
   "source": [
    "# State field\n",
    "df['job_state'] = df['Location'].apply(lambda x : x.split(',')[1])\n",
    "\n",
    "df['same_state'] = df.apply(lambda x : 1 if x.Location == x.Headquarters else 0,axis=1)"
   ]
  },
  {
   "cell_type": "code",
   "execution_count": 43,
   "id": "0ac60202",
   "metadata": {},
   "outputs": [],
   "source": [
    "# Age of company\n",
    "df['age'] = df.Founded.apply(lambda x : x if x<1 else 2023- x)\n"
   ]
  },
  {
   "cell_type": "code",
   "execution_count": 44,
   "id": "780a5104",
   "metadata": {},
   "outputs": [],
   "source": [
    "# Parsing of job description \n",
    "# python , excel , r studio , spark , aws \n",
    "df['python_yn'] = df['Job Description'].apply(lambda x : 1 if 'python' in x.lower() else 0 )\n",
    "\n",
    "df['excel_yn'] = df['Job Description'].apply(lambda x : 1 if 'excel' in x.lower() else 0 )\n",
    "\n",
    "df['r_yn'] = df['Job Description'].apply(lambda x : 1 if 'r-studio' in x.lower() else 0 )\n",
    "\n",
    "df['spark_yn'] = df['Job Description'].apply(lambda x : 1 if 'spark' in x.lower() else 0 )\n",
    "\n",
    "df['aws_yn'] = df['Job Description'].apply(lambda x : 1 if 'aws' in x.lower() else 0 )\n"
   ]
  },
  {
   "cell_type": "code",
   "execution_count": 45,
   "id": "94746f2c",
   "metadata": {},
   "outputs": [],
   "source": [
    "df.drop(columns=['Unnamed: 0'],inplace=True)"
   ]
  },
  {
   "cell_type": "code",
   "execution_count": 49,
   "id": "dea9de89",
   "metadata": {},
   "outputs": [],
   "source": [
    "df.to_csv('salary_data_cleaned.csv',index=False)"
   ]
  },
  {
   "cell_type": "code",
   "execution_count": null,
   "id": "e4bed835",
   "metadata": {},
   "outputs": [],
   "source": []
  }
 ],
 "metadata": {
  "kernelspec": {
   "display_name": "Python 3 (ipykernel)",
   "language": "python",
   "name": "python3"
  },
  "language_info": {
   "codemirror_mode": {
    "name": "ipython",
    "version": 3
   },
   "file_extension": ".py",
   "mimetype": "text/x-python",
   "name": "python",
   "nbconvert_exporter": "python",
   "pygments_lexer": "ipython3",
   "version": "3.10.9"
  }
 },
 "nbformat": 4,
 "nbformat_minor": 5
}
